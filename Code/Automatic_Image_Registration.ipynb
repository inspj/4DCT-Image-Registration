{
 "cells": [
  {
   "cell_type": "code",
   "execution_count": null,
   "id": "c544fe4f",
   "metadata": {},
   "outputs": [],
   "source": [
    "import os\n",
    "import subprocess\n",
    "import argparse\n",
    "import string\n",
    "import json\n",
    "import datetime\n",
    "from BSpline_Transform import deformable_transform\n",
    "from Affine_Transform import affine_transform\n",
    "from util import find_number, Euc_dist"
   ]
  },
  {
   "cell_type": "markdown",
   "id": "b2f2e2f5",
   "metadata": {},
   "source": [
    "# Image Registration"
   ]
  },
  {
   "cell_type": "code",
   "execution_count": null,
   "id": "8071b5bc",
   "metadata": {},
   "outputs": [],
   "source": [
    "# This is folder where the nifti files of images that are undergoing registration are saved\n",
    "\n",
    "Folder_Of_Image = 'Ada_NiftiChallenge'"
   ]
  },
  {
   "cell_type": "markdown",
   "id": "4ed71d9a",
   "metadata": {},
   "source": [
    "### Setting up B-Spline and Affine Parameters\n",
    "\n",
    "The following cell enables setting up parameters for B_Spline and Affine before creating the parameter files that will be used for the registration.\n",
    "\n",
    "In case of B_Spline following parameters can be optimized\n",
    "- Number of Resolutions\n",
    "- Final Grid Spacing\n",
    "- Spacing Schedule\n",
    "- Pyramid Schedule\n",
    "- Number of Iterations\n",
    "- Number of spatial samples used for metric evaluation\n",
    "- Number of Histogram Bins\n",
    "- Metric that will be used\n",
    "\n",
    "For the Affine transformation the parameters that are optimized include\n",
    "- Number of Resolutions\n",
    "- Number of Iterations\n",
    "- Number of spatial samples used for metric evaluation\n",
    "- Metric \n",
    "- Number of Histogram Bins\n"
   ]
  },
  {
   "cell_type": "code",
   "execution_count": null,
   "id": "9f407f32",
   "metadata": {},
   "outputs": [],
   "source": [
    "# B_Spline Parameters\n",
    "RESOLUTION = '6'\n",
    "F_GRID_SPACING = '10'\n",
    "ITER_NUMBER = '1000'\n",
    "SPATIAL_SAMPLES = '2000'\n",
    "SPACING_SCHEDULE =  '16.0 8.0 8.0 4.0 2.0 1.0'\n",
    "PYRAMID_SCHEDULE = '16 16 16 8 8 8 4 4 4 2 2 2 1 1 1 1 1 1'\n",
    "BIN_NUMBER = '32'\n",
    "FILL_VALUES = '0'\n",
    "METRIC = 'AdvancedNormalizedCorrelation'\n",
    "\n",
    "# Affine Parameters\n",
    "A_RESOLUTION = '6'\n",
    "A_ITER_NUMBER = '1000'\n",
    "A_SPATIAL_SAMPLES = '2000'\n",
    "A_METRIC = 'AdvancedNormalizedCorrelation'\n",
    "A_BIN_NUMBER = '32'"
   ]
  },
  {
   "cell_type": "markdown",
   "id": "c5443825",
   "metadata": {},
   "source": [
    "Set up the foldere where the parameter files will be saved"
   ]
  },
  {
   "cell_type": "code",
   "execution_count": null,
   "id": "184d9cf6",
   "metadata": {},
   "outputs": [],
   "source": [
    "OUTDIR_PARAM = 'Parameters_Folder/'\n",
    "os.makedirs(OUTDIR_PARAM, exist_ok=True)"
   ]
  },
  {
   "cell_type": "markdown",
   "id": "c616bae1",
   "metadata": {},
   "source": [
    "## Creation of registration parameter files\n",
    "\n",
    "In the following cell the respective commands for b-spline [deformable_transform] and affine [affine_transform] functions are called for creation of '.txt' files that will be used for image registration. "
   ]
  },
  {
   "cell_type": "code",
   "execution_count": null,
   "id": "d695d316",
   "metadata": {},
   "outputs": [],
   "source": [
    "deform_transfrom, b_name = deformable_transform(name = '0', resolution = RESOLUTION, f_grid_spacing = F_GRID_SPACING, iter_number = ITER_NUMBER, \n",
    "                                       spatial_samples = SPATIAL_SAMPLES, spacing_schedule = SPACING_SCHEDULE, \n",
    "                                       pyramid_schedule = PYRAMID_SCHEDULE, metric = METRIC, bin= BIN_NUMBER, fill_value=FILL_VALUES)\n",
    "\n",
    "aff_transform, a_name = affine_transform(name = '0', resolution = A_RESOLUTION, iter_number=A_ITER_NUMBER, \n",
    "                                        spatial_samples = A_SPATIAL_SAMPLES, metric = A_METRIC, bin = A_BIN_NUMBER)"
   ]
  },
  {
   "cell_type": "markdown",
   "id": "5b88bc1b",
   "metadata": {},
   "source": [
    "Save the '.txt' files "
   ]
  },
  {
   "cell_type": "code",
   "execution_count": null,
   "id": "fed8be4e",
   "metadata": {},
   "outputs": [],
   "source": [
    "out = '%d_%s.txt' % (0, b_name)\n",
    "out = os.path.join(OUTDIR_PARAM, out)\n",
    "with open(out, 'w') as file:\n",
    "    file.write(deform_transfrom.rstrip())\n",
    "\n",
    "out = '%d_%s.txt' % (0, a_name)\n",
    "out = os.path.join(OUTDIR_PARAM, out)\n",
    "with open(out, 'w') as file:\n",
    "    file.write(aff_transform.rstrip())"
   ]
  },
  {
   "cell_type": "markdown",
   "id": "6f1cf670",
   "metadata": {},
   "source": [
    "Set up the name and location of the parameter files that will be called in the following cell"
   ]
  },
  {
   "cell_type": "code",
   "execution_count": null,
   "id": "a9601328",
   "metadata": {
    "scrolled": true
   },
   "outputs": [],
   "source": [
    "name1 = f\"{OUTDIR_PARAM}/0_{a_name}.txt\"\n",
    "name2 = f\"{OUTDIR_PARAM}/0_{b_name}.txt\"\n",
    "\n",
    "only_BSpline = 'True'"
   ]
  },
  {
   "cell_type": "markdown",
   "id": "e725f1d2",
   "metadata": {},
   "source": [
    "By using only_BSpline set to True or False user can decide if only B-Spline or both B-Spline and affine are used for image registration. In case that only_BSpline is set to 'True' the elastix command will only make a call to the parameter file of the B-spline registration. If it is set to 'False' the elastix command will firstly call the affine parameter file and then the B-spline parameter file. In case the it is not defined the for loop will not proceedd to run.\n",
    "\n",
    "string1 is used for calling the elastix command\n",
    "string2 is used for calling the transformix function and transforming the landmarks with respect to obtained Transformation Parameters\n"
   ]
  },
  {
   "cell_type": "code",
   "execution_count": null,
   "id": "ecf7e385",
   "metadata": {
    "scrolled": true
   },
   "outputs": [],
   "source": [
    "for k in [0, 5, 6]:\n",
    "    OUTDIR = f'logs/{k}'\n",
    "    # make the output directory for the files that generated during image registration\n",
    "    os.makedirs(OUTDIR, exist_ok=True)\n",
    "    if only_BSpline == 'False':\n",
    "        string1  = f\"-f ./{Folder_Of_Image}/copd{k}_iBHCT.nii.gz -m ./{Folder_Of_Image}/copd{k}_eBHCT.nii.gz -out ./{OUTDIR}/ -p {name1} -p {name2}\"\n",
    "        string2 = f\"-def ChallengeData/copd{k}/copd{k}_300_iBH_xyz_r1.txt -out ./{OUTDIR}/ -tp ./{OUTDIR}/TransformParameters.1.txt\"\n",
    "    \n",
    "    elif only_BSpline == 'True'\n",
    "        string1  = f\"-f ./{Folder_Of_Image}/copd{k}_iBHCT.nii.gz -m ./{Folder_Of_Image}/copd{k}_eBHCT.nii.gz -out ./{OUTDIR}/ -p {name2}\"\n",
    "        string2 = f\"-def ChallengeData/copd{k}/copd{k}_300_iBH_xyz_r1.txt -out ./{OUTDIR}/ -tp ./{OUTDIR}/TransformParameters.0.txt\"\n",
    "    else:\n",
    "        print('The exact transformation procedure is not defined')\n",
    "        break\n",
    "    \n",
    "    !elastix {string1}\n",
    "    !transformix {string2}"
   ]
  },
  {
   "cell_type": "markdown",
   "id": "48de6599",
   "metadata": {},
   "source": [
    "# TRE Calculation "
   ]
  },
  {
   "cell_type": "markdown",
   "id": "2a2f43e3",
   "metadata": {},
   "source": [
    "As every volume has a specific spacing it has to be set up in advance before using it"
   ]
  },
  {
   "cell_type": "code",
   "execution_count": null,
   "id": "20c24fd3",
   "metadata": {},
   "outputs": [],
   "source": [
    "n = 1\n",
    "spacing = [(0.625,0.625,2.5),(0.645,0.645,2.5),(0.652,0.652,2.5),(0.590,0.590,2.5)];"
   ]
  },
  {
   "cell_type": "code",
   "execution_count": null,
   "id": "8db4220c",
   "metadata": {},
   "outputs": [],
   "source": [
    "i = 0\n",
    "for i in range(4):\n",
    "    n = i + 1\n",
    "    print(n)\n",
    "    OUTDIR = f'logs/{n}'\n",
    "    data = pd.read_csv(f'./{OUTDIR}/outputpoints.txt', sep=\";\", header=None)\n",
    "    outputData = data[3]\n",
    "    check = []\n",
    "    \n",
    "    # Extract the registered landmarks, only the number value and \n",
    "    # transform them into a numpy array of 'float64' dtype. \n",
    "    for k in range(300):\n",
    "        values = find_number(outputData[k])\n",
    "        check.append(values.split())\n",
    "    check = np.array(check)\n",
    "    check = np.squeeze(check)\n",
    "    check = check.astype('float64')\n",
    "    \n",
    "    landmark1= np.loadtxt(f'exhale/copd{i+1}_300_eBH_xyz_r1.txt')\n",
    "    landmark2 = check\n",
    "    dist, mean,std = Euc_dist(landmark1,landmark2,spacing[i])\n",
    "    print(\"results of \"+str(i+1))\n",
    "    print(mean, std)"
   ]
  }
 ],
 "metadata": {
  "kernelspec": {
   "display_name": "Python 3",
   "language": "python",
   "name": "python3"
  },
  "language_info": {
   "codemirror_mode": {
    "name": "ipython",
    "version": 3
   },
   "file_extension": ".py",
   "mimetype": "text/x-python",
   "name": "python",
   "nbconvert_exporter": "python",
   "pygments_lexer": "ipython3",
   "version": "3.8.8"
  }
 },
 "nbformat": 4,
 "nbformat_minor": 5
}
