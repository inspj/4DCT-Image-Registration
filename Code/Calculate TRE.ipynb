{
 "cells": [
  {
   "cell_type": "code",
   "execution_count": 1,
   "id": "5b4c991e",
   "metadata": {},
   "outputs": [],
   "source": [
    "import pandas as pd\n",
    "import numpy as np\n",
    "import re as re\n",
    "import os\n",
    "import sys"
   ]
  },
  {
   "cell_type": "code",
   "execution_count": 2,
   "id": "738b2635",
   "metadata": {},
   "outputs": [],
   "source": [
    "from tempfile import mkstemp\n",
    "from shutil import move\n",
    "from os import fdopen, remove\n",
    "\n",
    "def replace(file_path, pattern, subst):\n",
    "    \"\"\"\n",
    "    Replace strings in a file.\n",
    "    \n",
    "    Parametrs:\n",
    "        pattern (str, iterable): pattern to replace.\n",
    "        subst (str, iterable): subtitution.\n",
    "    \n",
    "    \"\"\"\n",
    "    #Create temp file\n",
    "    fh, abs_path = mkstemp()\n",
    "    with fdopen(fh,'w') as new_file:\n",
    "        with open(file_path) as old_file:\n",
    "            for line in old_file:\n",
    "                new_file.write(line.replace(pattern, subst))\n",
    "    #Remove original file\n",
    "    remove(file_path)\n",
    "    #Move new file\n",
    "    move(abs_path, file_path)"
   ]
  },
  {
   "cell_type": "code",
   "execution_count": 4,
   "id": "f0ef507b",
   "metadata": {},
   "outputs": [
    {
     "name": "stdout",
     "output_type": "stream",
     "text": [
      "8.0 8.0 8.0 8.0 8.0 8.0 4.0 4.0 4.0 2.0 2.0 2.0 1.0 1.0 1.0 1.0 1.0 1.0\n"
     ]
    }
   ],
   "source": [
    "print(\"8.0 8.0 8.0\"  + \" 8.0 8.0 8.0\" + \" 4.0 4.0 4.0\" + \" 2.0 2.0 2.0\" + \" 1.0 1.0 1.0\" + \" 1.0 1.0 1.0\")"
   ]
  },
  {
   "cell_type": "code",
   "execution_count": 18,
   "id": "cfc8b6d0",
   "metadata": {},
   "outputs": [],
   "source": [
    "parameters_path = 'Parameters/BSpline.txt'  \n",
    "replace(parameters_path, '(FinalGridSpacingInPhysicalUnits 30.0 30.0 30.0)', '(FinalGridSpacingInPhysicalUnits 20.0 20.0 20.0)')\n",
    "replace(parameters_path, '(GridSpacingSchedule 16.0 8.0 4.0 2.0 1.0 1.0)', '(GridSpacingSchedule 4.0 2.0 1.0 1.0 1.0 1.0)')\n"
   ]
  },
  {
   "cell_type": "code",
   "execution_count": 4,
   "id": "92c32834",
   "metadata": {
    "scrolled": true
   },
   "outputs": [
    {
     "name": "stdout",
     "output_type": "stream",
     "text": [
      "(Metric \"AdvancedMattesMutualInformation\")\n",
      "(NumberOfResolutions 6)\n",
      "(FinalGridSpacingInPhysicalUnits 20.0 20.0 20.0)\n",
      "(GridSpacingSchedule 8.0 4.0 2.0 1.0 1.0 1.0)\n",
      "(MaximumNumberOfIterations 5000)\n",
      "// ********** Metric\n",
      "(NumberOfHistogramBins 32)\n",
      "(ShowExactMetricValue \"false\")\n",
      "(NumberOfSpatialSamples 1000)\n"
     ]
    }
   ],
   "source": [
    "with open ('Parameters/BSpline.txt', \"r\") as f:\n",
    "    data = f.read().splitlines()\n",
    "\n",
    "\n",
    "codes = [\"NumberOfResolutions\", \"Metric\", \"NumberOfHistogramBins\", \"NumberOfSpatialSamples\", \"GridSpacingSchedule\", \"MaximumNumberOfIterations\",\"FinalGridSpacingInPhysicalUnits\", \"ImagePyramidSchedule \"]\n",
    "\n",
    "filteredData = list(filter(lambda x: any(True for c in codes if c in x), data))\n",
    "for f in filteredData:\n",
    "    print(f)\n"
   ]
  },
  {
   "cell_type": "code",
   "execution_count": 5,
   "id": "5cb524dd",
   "metadata": {},
   "outputs": [
    {
     "name": "stdout",
     "output_type": "stream",
     "text": [
      "(Metric \"AdvancedNormalizedCorrelation\")\n",
      "(NumberOfResolutions 6)\n",
      "(MaximumNumberOfIterations 2000)\n",
      "// ********** Metric\n",
      "(NumberOfHistogramBins 32)\n",
      "(ShowExactMetricValue \"false\")\n",
      "(NumberOfSpatialSamples 2000)\n"
     ]
    }
   ],
   "source": [
    "with open ('Parameters/1_affine.txt', \"r\") as f:\n",
    "    data = f.read().splitlines()\n",
    "\n",
    "\n",
    "codes = [\"NumberOfResolutions\", \"Metric\", \"NumberOfHistogramBins\", \"NumberOfSpatialSamples\", \"GridSpacingSchedule\", \"MaximumNumberOfIterations\",\"FinalGridSpacingInPhysicalUnits\", \"ImagePyramidSchedule \"]\n",
    "\n",
    "filteredData = list(filter(lambda x: any(True for c in codes if c in x), data))\n",
    "for f in filteredData:\n",
    "    print(f)"
   ]
  },
  {
   "cell_type": "code",
   "execution_count": 41,
   "id": "3341c5d3",
   "metadata": {},
   "outputs": [
    {
     "name": "stdout",
     "output_type": "stream",
     "text": [
      "elastix -f ./AdaHist/copd1_iBHCT.nii.gz -m ./AdaHist/copd1_eBHCT.nii.gz -out ./Base/1OnlyBSpline -p Parameters/BSpline.txt\n",
      "transformix -def copd1_300_iBH_xyz_r1.txt -out Base/1OnlyBSpline/ -tp ./Base/1OnlyBSpline/TransformParameters.0.txt\n",
      "#-----------------------------------------------------\n",
      "elastix -f ./AdaHist/copd2_iBHCT.nii.gz -m ./AdaHist/copd2_eBHCT.nii.gz -out ./Base/2OnlyBSpline -p Parameters/BSpline.txt\n",
      "transformix -def copd2_300_iBH_xyz_r1.txt -out Base/2OnlyBSpline/ -tp ./Base/2OnlyBSpline/TransformParameters.0.txt\n",
      "#-----------------------------------------------------\n",
      "elastix -f ./AdaHist/copd3_iBHCT.nii.gz -m ./AdaHist/copd3_eBHCT.nii.gz -out ./Base/3OnlyBSpline -p Parameters/BSpline.txt\n",
      "transformix -def copd3_300_iBH_xyz_r1.txt -out Base/3OnlyBSpline/ -tp ./Base/3OnlyBSpline/TransformParameters.0.txt\n",
      "#-----------------------------------------------------\n",
      "elastix -f ./AdaHist/copd4_iBHCT.nii.gz -m ./AdaHist/copd4_eBHCT.nii.gz -out ./Base/4OnlyBSpline -p Parameters/BSpline.txt\n",
      "transformix -def copd4_300_iBH_xyz_r1.txt -out Base/4OnlyBSpline/ -tp ./Base/4OnlyBSpline/TransformParameters.0.txt\n",
      "#-----------------------------------------------------\n"
     ]
    }
   ],
   "source": [
    "m = 0\n",
    "for i in range(4):\n",
    "    m = i + 1\n",
    "    print(f\"elastix -f ./AdaHist/copd{m}_iBHCT.nii.gz -m ./AdaHist/copd{m}_eBHCT.nii.gz -out ./Base/{m}OnlyBSpline -p Parameters/BSpline.txt\")\n",
    "    print(f\"transformix -def copd{m}_300_iBH_xyz_r1.txt -out Base/{m}OnlyBSpline/ -tp ./Base/{m}OnlyBSpline/TransformParameters.0.txt\")\n",
    "    print('#-----------------------------------------------------')"
   ]
  },
  {
   "cell_type": "code",
   "execution_count": 138,
   "id": "67faaa48",
   "metadata": {},
   "outputs": [
    {
     "name": "stdout",
     "output_type": "stream",
     "text": [
      "^C\n"
     ]
    }
   ],
   "source": [
    "!elastix -f ./AdaHist/copd1_iBHCT.nii.gz -m ./AdaHist/copd1_eBHCT.nii.gz -out ./Base/1OnlyBSpline -p Parameters/BSpline.txt\n"
   ]
  },
  {
   "cell_type": "code",
   "execution_count": 58,
   "id": "da46da1a",
   "metadata": {},
   "outputs": [],
   "source": [
    "def find_number(text):\n",
    "    num = re.findall(r'\\d+', text)\n",
    "    return \" \".join(num)\n",
    "\n",
    "def Euc_dist(landmarks1, landmarks2, spacing):\n",
    "\n",
    "    landmarks1 = spacing * landmarks1\n",
    "    landmarks2 = spacing * landmarks2\n",
    "    diff = landmarks1 - landmarks2\n",
    "    squared = diff * diff\n",
    "    dist = np.sqrt(np.sum(squared, axis=1))\n",
    "    mean = np.mean(dist)\n",
    "    std = np.std(dist)\n",
    "\n",
    "    return dist, mean ,std"
   ]
  },
  {
   "cell_type": "code",
   "execution_count": 59,
   "id": "3a422649",
   "metadata": {},
   "outputs": [],
   "source": [
    "n = 1\n",
    "spacing = [(0.625,0.625,2.5),(0.645,0.645,2.5),(0.652,0.652,2.5),(0.590,0.590,2.5)];"
   ]
  },
  {
   "cell_type": "code",
   "execution_count": 60,
   "id": "13571b63",
   "metadata": {
    "scrolled": true
   },
   "outputs": [
    {
     "name": "stdout",
     "output_type": "stream",
     "text": [
      "1\n",
      "results of 1\n",
      "4.7269160119054785 4.506362910713946\n",
      "2\n",
      "results of 2\n",
      "7.776982951856033 7.25266683709337\n",
      "3\n",
      "results of 3\n",
      "3.0367797342497553 2.6768768554013302\n",
      "4\n",
      "results of 4\n",
      "6.630377511973013 4.913903748418621\n"
     ]
    }
   ],
   "source": [
    "##### n = 0\n",
    "i = 0\n",
    "for i in range(4):\n",
    "    n = i + 1\n",
    "    print(n)\n",
    "    data = pd.read_csv(f'Base/{n}OnlyBSpline/outputpoints.txt', sep=\";\", header=None)\n",
    "    outputData = data[3]\n",
    "    check = []\n",
    "    for k in range(300):\n",
    "        values = find_number(outputData[k])\n",
    "        check.append(values.split())\n",
    "    check = np.array(check)\n",
    "    check = np.squeeze(check)\n",
    "    check = check.astype('float64')\n",
    "    landmark1= np.loadtxt(f'exhale/copd{i+1}_300_eBH_xyz_r1.txt')\n",
    "    landmark2 = check\n",
    "    dist, mean,std = Euc_dist(landmark1,landmark2,spacing[i])\n",
    "    print(\"results of \"+str(i+1))\n",
    "    print(mean, std)"
   ]
  },
  {
   "cell_type": "code",
   "execution_count": 70,
   "id": "60e6200d",
   "metadata": {},
   "outputs": [
    {
     "data": {
      "text/plain": [
       "array([[184., 285.,  10.],\n",
       "       [209., 263.,  10.],\n",
       "       [213., 274.,  10.],\n",
       "       [225., 251.,  11.],\n",
       "       [217., 271.,  13.],\n",
       "       [218., 238.,  13.],\n",
       "       [151., 297.,  19.],\n",
       "       [230., 254.,  18.],\n",
       "       [345., 301.,  20.],\n",
       "       [143., 277.,  23.],\n",
       "       [291., 274.,  19.],\n",
       "       [224., 257.,  20.],\n",
       "       [227., 296.,  20.],\n",
       "       [170., 314.,  22.],\n",
       "       [199., 273.,  21.],\n",
       "       [151., 324.,  24.],\n",
       "       [317., 259.,  21.],\n",
       "       [294., 270.,  20.],\n",
       "       [149., 296.,  25.],\n",
       "       [173., 344.,  25.],\n",
       "       [370., 311.,  26.],\n",
       "       [306., 263.,  21.],\n",
       "       [370., 294.,  26.],\n",
       "       [137., 314.,  27.],\n",
       "       [228., 291.,  24.],\n",
       "       [150., 285.,  26.],\n",
       "       [330., 271.,  24.],\n",
       "       [324., 300.,  24.],\n",
       "       [313., 261.,  24.],\n",
       "       [180., 246.,  28.],\n",
       "       [205., 332.,  27.],\n",
       "       [175., 294.,  25.],\n",
       "       [163., 323.,  27.],\n",
       "       [170., 313.,  23.],\n",
       "       [236., 249.,  23.],\n",
       "       [158., 313.,  27.],\n",
       "       [143., 333.,  29.],\n",
       "       [140., 331.,  29.],\n",
       "       [117., 307.,  29.],\n",
       "       [330., 274.,  26.],\n",
       "       [306., 313.,  26.],\n",
       "       [391., 292.,  31.],\n",
       "       [176., 267.,  28.],\n",
       "       [195., 319.,  27.],\n",
       "       [121., 294.,  31.],\n",
       "       [152., 278.,  30.],\n",
       "       [307., 268.,  26.],\n",
       "       [334., 332.,  28.],\n",
       "       [310., 275.,  27.],\n",
       "       [363., 339.,  31.],\n",
       "       [193., 251.,  29.],\n",
       "       [324., 325.,  29.],\n",
       "       [393., 300.,  33.],\n",
       "       [221., 314.,  30.],\n",
       "       [175., 313.,  29.],\n",
       "       [118., 329.,  33.],\n",
       "       [150., 324.,  32.],\n",
       "       [109., 258.,  38.],\n",
       "       [349., 293.,  30.],\n",
       "       [369., 318.,  32.],\n",
       "       [208., 328.,  32.],\n",
       "       [223., 201.,  41.],\n",
       "       [131., 244.,  40.],\n",
       "       [110., 294.,  36.],\n",
       "       [109., 289.,  36.],\n",
       "       [205., 212.,  40.],\n",
       "       [395., 301.,  35.],\n",
       "       [333., 356.,  35.],\n",
       "       [335., 310.,  31.],\n",
       "       [399., 274.,  38.],\n",
       "       [341., 354.,  35.],\n",
       "       [133., 237.,  42.],\n",
       "       [167., 340.,  35.],\n",
       "       [157., 257.,  38.],\n",
       "       [356., 353.,  38.],\n",
       "       [336., 367.,  38.],\n",
       "       [122., 288.,  38.],\n",
       "       [168., 217.,  43.],\n",
       "       [119., 324.,  38.],\n",
       "       [212., 334.,  36.],\n",
       "       [208., 322.,  34.],\n",
       "       [364., 306.,  34.],\n",
       "       [332., 350.,  37.],\n",
       "       [379., 321.,  36.],\n",
       "       [130., 332.,  39.],\n",
       "       [194., 223.,  42.],\n",
       "       [382., 246.,  42.],\n",
       "       [372., 248.,  41.],\n",
       "       [399., 278.,  40.],\n",
       "       [184., 358.,  40.],\n",
       "       [161., 330.,  37.],\n",
       "       [163., 195.,  48.],\n",
       "       [200., 331.,  37.],\n",
       "       [347., 346.,  39.],\n",
       "       [354., 371.,  44.],\n",
       "       [308., 340.,  38.],\n",
       "       [357., 267.,  40.],\n",
       "       [141., 293.,  40.],\n",
       "       [185., 368.,  44.],\n",
       "       [179., 326.,  38.],\n",
       "       [390., 316.,  39.],\n",
       "       [358., 355.,  43.],\n",
       "       [159., 224.,  48.],\n",
       "       [134., 224.,  49.],\n",
       "       [400., 286.,  42.],\n",
       "       [361., 348.,  43.],\n",
       "       [375., 351.,  44.],\n",
       "       [319., 335.,  39.],\n",
       "       [139., 278.,  44.],\n",
       "       [174., 212.,  48.],\n",
       "       [221., 178.,  49.],\n",
       "       [188., 339.,  41.],\n",
       "       [152., 354.,  44.],\n",
       "       [106., 312.,  45.],\n",
       "       [115., 251.,  48.],\n",
       "       [117., 230.,  50.],\n",
       "       [351., 350.,  44.],\n",
       "       [363., 221.,  48.],\n",
       "       [392., 245.,  47.],\n",
       "       [409., 293.,  45.],\n",
       "       [166., 204.,  51.],\n",
       "       [117., 307.,  45.],\n",
       "       [ 99., 308.,  47.],\n",
       "       [343., 345.,  43.],\n",
       "       [392., 232.,  50.],\n",
       "       [342., 337.,  42.],\n",
       "       [154., 346.,  44.],\n",
       "       [187., 204.,  50.],\n",
       "       [196., 186.,  51.],\n",
       "       [103., 337.,  49.],\n",
       "       [156., 350.,  46.],\n",
       "       [170., 330.,  45.],\n",
       "       [381., 230.,  50.],\n",
       "       [379., 281.,  46.],\n",
       "       [383., 351.,  48.],\n",
       "       [315., 357.,  47.],\n",
       "       [402., 239.,  51.],\n",
       "       [403., 289.,  48.],\n",
       "       [349., 198.,  54.],\n",
       "       [111., 321.,  49.],\n",
       "       [129., 324.,  48.],\n",
       "       [120., 335.,  50.],\n",
       "       [104., 248.,  53.],\n",
       "       [138., 280.,  50.],\n",
       "       [391., 226.,  53.],\n",
       "       [346., 364.,  51.],\n",
       "       [301., 361.,  49.],\n",
       "       [380., 273.,  49.],\n",
       "       [141., 328.,  48.],\n",
       "       [ 91., 266.,  54.],\n",
       "       [137., 228.,  55.],\n",
       "       [100., 250.,  55.],\n",
       "       [119., 231.,  56.],\n",
       "       [132., 245.,  54.],\n",
       "       [210., 330.,  48.],\n",
       "       [368., 240.,  52.],\n",
       "       [392., 243.,  52.],\n",
       "       [293., 359.,  49.],\n",
       "       [397., 329.,  50.],\n",
       "       [317., 353.,  48.],\n",
       "       [397., 296.,  50.],\n",
       "       [403., 242.,  54.],\n",
       "       [104., 278.,  53.],\n",
       "       [140., 377.,  55.],\n",
       "       [126., 319.,  51.],\n",
       "       [159., 316.,  50.],\n",
       "       [165., 268.,  54.],\n",
       "       [187., 196.,  55.],\n",
       "       [301., 361.,  51.],\n",
       "       [327., 367.,  52.],\n",
       "       [389., 275.,  51.],\n",
       "       [403., 328.,  53.],\n",
       "       [362., 254.,  54.],\n",
       "       [402., 271.,  53.],\n",
       "       [143., 356.,  53.],\n",
       "       [134., 341.,  52.],\n",
       "       [110., 315.,  53.],\n",
       "       [131., 281.,  54.],\n",
       "       [161., 327.,  51.],\n",
       "       [148., 332.,  51.],\n",
       "       [ 82., 278.,  57.],\n",
       "       [342., 339.,  48.],\n",
       "       [355., 319.,  49.],\n",
       "       [383., 323.,  50.],\n",
       "       [412., 249.,  55.],\n",
       "       [351., 323.,  49.],\n",
       "       [398., 216.,  57.],\n",
       "       [198., 332.,  52.],\n",
       "       [ 99., 265.,  57.],\n",
       "       [131., 307.,  54.],\n",
       "       [164., 379.,  57.],\n",
       "       [100., 245.,  59.],\n",
       "       [308., 357.,  52.],\n",
       "       [295., 357.,  53.],\n",
       "       [347., 376.,  56.],\n",
       "       [413., 295.,  55.],\n",
       "       [387., 249.,  56.],\n",
       "       [123., 328.,  54.],\n",
       "       [ 91., 317.,  57.],\n",
       "       [167., 364.,  54.],\n",
       "       [157., 232.,  58.],\n",
       "       [141., 354.,  55.],\n",
       "       [138., 259.,  58.],\n",
       "       [377., 331.,  53.],\n",
       "       [417., 289.,  56.],\n",
       "       [394., 316.,  55.],\n",
       "       [399., 231.,  58.],\n",
       "       [ 93., 289.,  59.],\n",
       "       [160., 321.,  56.],\n",
       "       [186., 258.,  59.],\n",
       "       [112., 290.,  58.],\n",
       "       [349., 367.,  56.],\n",
       "       [357., 310.,  54.],\n",
       "       [398., 276.,  56.],\n",
       "       [142., 329.,  57.],\n",
       "       [112., 305.,  58.],\n",
       "       [160., 237.,  60.],\n",
       "       [159., 193.,  60.],\n",
       "       [124., 338.,  57.],\n",
       "       [409., 320.,  59.],\n",
       "       [400., 233.,  60.],\n",
       "       [368., 324.,  55.],\n",
       "       [128., 300.,  60.],\n",
       "       [200., 288.,  63.],\n",
       "       [384., 335.,  58.],\n",
       "       [376., 334.,  56.],\n",
       "       [385., 259.,  60.],\n",
       "       [399., 212.,  63.],\n",
       "       [399., 251.,  60.],\n",
       "       [322., 362.,  58.],\n",
       "       [121., 365.,  61.],\n",
       "       [ 98., 336.,  61.],\n",
       "       [167., 196.,  62.],\n",
       "       [ 86., 285.,  63.],\n",
       "       [138., 369.,  61.],\n",
       "       [338., 376.,  60.],\n",
       "       [342., 367.,  59.],\n",
       "       [394., 204.,  64.],\n",
       "       [373., 342.,  59.],\n",
       "       [102., 292.,  63.],\n",
       "       [201., 296.,  65.],\n",
       "       [ 90., 329.,  62.],\n",
       "       [142., 375.,  63.],\n",
       "       [109., 213.,  65.],\n",
       "       [115., 374.,  63.],\n",
       "       [128., 277.,  64.],\n",
       "       [143., 294.,  64.],\n",
       "       [196., 354.,  64.],\n",
       "       [419., 304.,  61.],\n",
       "       [343., 393.,  65.],\n",
       "       [312., 372.,  63.],\n",
       "       [316., 347.,  61.],\n",
       "       [ 94., 272.,  65.],\n",
       "       [157., 254.,  67.],\n",
       "       [ 93., 287.,  65.],\n",
       "       [297., 351.,  65.],\n",
       "       [384., 324.,  61.],\n",
       "       [118., 242.,  67.],\n",
       "       [164., 311.,  67.],\n",
       "       [203., 314.,  69.],\n",
       "       [ 87., 283.,  67.],\n",
       "       [176., 174.,  67.],\n",
       "       [390., 286.,  62.],\n",
       "       [403., 300.,  62.],\n",
       "       [ 82., 257.,  69.],\n",
       "       [104., 323.,  66.],\n",
       "       [165., 375.,  69.],\n",
       "       [148., 220.,  69.],\n",
       "       [134., 364.,  67.],\n",
       "       [ 90., 348.,  68.],\n",
       "       [415., 237.,  67.],\n",
       "       [ 97., 265.,  69.],\n",
       "       [136., 374.,  69.],\n",
       "       [368., 316.,  66.],\n",
       "       [349., 374.,  68.],\n",
       "       [ 92., 233.,  71.],\n",
       "       [ 87., 326.,  69.],\n",
       "       [153., 366.,  71.],\n",
       "       [117., 368.,  70.],\n",
       "       [131., 380.,  71.],\n",
       "       [ 81., 308.,  70.],\n",
       "       [383., 371.,  70.],\n",
       "       [181., 334.,  74.],\n",
       "       [ 93., 257.,  72.],\n",
       "       [401., 280.,  68.],\n",
       "       [337., 382.,  71.],\n",
       "       [376., 287.,  70.],\n",
       "       [298., 361.,  73.],\n",
       "       [ 82., 270.,  73.],\n",
       "       [327., 392.,  74.],\n",
       "       [132., 381.,  75.],\n",
       "       [113., 351.,  74.],\n",
       "       [362., 360.,  71.],\n",
       "       [362., 384.,  74.],\n",
       "       [ 84., 320.,  75.],\n",
       "       [182., 363.,  79.],\n",
       "       [403., 318.,  70.],\n",
       "       [366., 375.,  74.],\n",
       "       [141., 395.,  79.],\n",
       "       [149., 390.,  80.]])"
      ]
     },
     "execution_count": 70,
     "metadata": {},
     "output_type": "execute_result"
    }
   ],
   "source": [
    "    check2= np.loadtxt('check.txt')\n",
    "    check2"
   ]
  },
  {
   "cell_type": "code",
   "execution_count": 69,
   "id": "553600dd",
   "metadata": {},
   "outputs": [],
   "source": [
    "np.savetxt('check.txt',check,fmt='%10.0f',  delimiter=' ', newline='\\n')"
   ]
  },
  {
   "cell_type": "markdown",
   "id": "d603ac53",
   "metadata": {},
   "source": [
    "### READ FILES AND PROCESS THEM"
   ]
  },
  {
   "cell_type": "code",
   "execution_count": 6,
   "id": "d62abeff",
   "metadata": {},
   "outputs": [],
   "source": [
    "def file_reader(filepath):\n",
    "    \n",
    "    image_nifti = nib.load(filepath)\n",
    "    img = image_nifti.get_data()\n",
    "\n",
    "  \n",
    "    return img\n",
    "\n",
    "def file_header(filepath):\n",
    "    image_nifti = nib.load(filepath)\n",
    "    header = image_nifti.header  \n",
    "    return header\n"
   ]
  },
  {
   "cell_type": "code",
   "execution_count": null,
   "id": "b9a81555",
   "metadata": {},
   "outputs": [],
   "source": []
  },
  {
   "cell_type": "code",
   "execution_count": 33,
   "id": "572538df",
   "metadata": {},
   "outputs": [
    {
     "name": "stdout",
     "output_type": "stream",
     "text": [
      "['exhale', 'inhale']\n"
     ]
    }
   ],
   "source": [
    "folders = ['Nifti_Challenge']\n",
    "path = './'\n",
    "files = []\n",
    "\n",
    "\n",
    "files.append([f for f in sorted(os.listdir(os.path.join(path,folders[0])))])\n",
    "#val_folders = [f for f in sorted(os.listdir(os.path.join(path,folders[1])))]\n",
    "files = files[0]\n",
    "print(files)\n"
   ]
  },
  {
   "cell_type": "code",
   "execution_count": 112,
   "id": "7922cc1d",
   "metadata": {},
   "outputs": [
    {
     "name": "stdout",
     "output_type": "stream",
     "text": [
      "0.18.1\n"
     ]
    }
   ],
   "source": [
    "import skimage\n",
    "print(skimage.__version__)"
   ]
  },
  {
   "cell_type": "code",
   "execution_count": 4,
   "id": "591b26aa",
   "metadata": {},
   "outputs": [],
   "source": [
    "inhale = []\n",
    "exhale = []\n",
    "header_info = []"
   ]
  },
  {
   "cell_type": "code",
   "execution_count": 45,
   "id": "5a8d48c0",
   "metadata": {},
   "outputs": [
    {
     "name": "stdout",
     "output_type": "stream",
     "text": [
      "0\n",
      "[  3 256 256  94   1   1   1   1]\n",
      "5\n",
      "[  3 256 256  94   1   1   1   1]\n",
      "6\n",
      "[  3 512 512 131   1   1   1   1]\n"
     ]
    }
   ],
   "source": [
    "import nibabel as nib\n",
    "name = [\"copd0\", \"copd5\", \"copd6\"]\n",
    "k = 0\n",
    "for i in [0, 5,  6]:\n",
    "    print(i)\n",
    "    #inhale.append(file_reader(os.path.join(path,folders[0],name[i]+\"_iBHCT.nii.gz\")))\n",
    "    #exhale.append(file_reader(os.path.join(path,folders[0],name[i]+\"_eBHCT.nii.gz\")))\n",
    "    #exhale[i].shape\n",
    "    header_info.append(file_header(f'Nifti_Challenge/copd{i}_iBHCT.nii.gz'))\n",
    "    print(header_info[k]['dim'])\n",
    "    k += 1"
   ]
  },
  {
   "cell_type": "code",
   "execution_count": 42,
   "id": "b41ae926",
   "metadata": {},
   "outputs": [
    {
     "data": {
      "text/plain": [
       "36"
      ]
     },
     "execution_count": 42,
     "metadata": {},
     "output_type": "execute_result"
    }
   ],
   "source": [
    "len(header_info)"
   ]
  },
  {
   "cell_type": "code",
   "execution_count": 49,
   "id": "ac627d4e",
   "metadata": {},
   "outputs": [
    {
     "name": "stderr",
     "output_type": "stream",
     "text": [
      "<ipython-input-6-e734f863b5ba>:4: DeprecationWarning: get_data() is deprecated in favor of get_fdata(), which has a more predictable return type. To obtain get_data() behavior going forward, use numpy.asanyarray(img.dataobj).\n",
      "\n",
      "* deprecated from version: 3.0\n",
      "* Will raise <class 'nibabel.deprecator.ExpiredDeprecationError'> as of version: 5.0\n",
      "  img = image_nifti.get_data()\n"
     ]
    }
   ],
   "source": [
    "cop0_i = file_reader('Nifti_Challenge/copd0_iBHCT.nii.gz')\n",
    "cop5_i = file_reader('Nifti_Challenge/copd5_iBHCT.nii.gz')\n",
    "cop6_i = file_reader('Nifti_Challenge/copd6_iBHCT.nii.gz')"
   ]
  },
  {
   "cell_type": "code",
   "execution_count": 50,
   "id": "3183101c",
   "metadata": {},
   "outputs": [
    {
     "name": "stderr",
     "output_type": "stream",
     "text": [
      "<ipython-input-6-e734f863b5ba>:4: DeprecationWarning: get_data() is deprecated in favor of get_fdata(), which has a more predictable return type. To obtain get_data() behavior going forward, use numpy.asanyarray(img.dataobj).\n",
      "\n",
      "* deprecated from version: 3.0\n",
      "* Will raise <class 'nibabel.deprecator.ExpiredDeprecationError'> as of version: 5.0\n",
      "  img = image_nifti.get_data()\n"
     ]
    }
   ],
   "source": [
    "cop0_e = file_reader('Nifti_Challenge/copd0_eBHCT.nii.gz')\n",
    "cop5_e = file_reader('Nifti_Challenge/copd5_eBHCT.nii.gz')\n",
    "cop6_e = file_reader('Nifti_Challenge/copd6_eBHCT.nii.gz')"
   ]
  },
  {
   "cell_type": "code",
   "execution_count": 51,
   "id": "f0bb0a76",
   "metadata": {},
   "outputs": [
    {
     "name": "stdout",
     "output_type": "stream",
     "text": [
      "Inhale shape is: (256, 256, 94), (512, 512, 131), (512, 512, 119)\n",
      "Exhale shape is: (256, 256, 94), (512, 512, 131), (512, 512, 119)\n"
     ]
    }
   ],
   "source": [
    "print(f\"Inhale shape is: {cop0_i.shape}, {cop5_i.shape}, {cop6_i.shape}\")\n",
    "print(f\"Exhale shape is: {cop0_e.shape}, {cop5_e.shape}, {cop6_e.shape}\")"
   ]
  },
  {
   "cell_type": "code",
   "execution_count": 54,
   "id": "cbc9d663",
   "metadata": {},
   "outputs": [],
   "source": [
    "from skimage.exposure import equalize_adapthist\n",
    "from tqdm import tqdm"
   ]
  },
  {
   "cell_type": "code",
   "execution_count": 55,
   "id": "44dc270f",
   "metadata": {},
   "outputs": [],
   "source": [
    "values = [cop0_i, cop5_i, cop6_i]\n",
    "values_e = [cop0_e, cop5_e, cop6_e]\n",
    "\n",
    "for i in range(len(values)):\n",
    "    values[i] = equalize_adapthist(np.squeeze(values[i]))\n",
    "    values_e[i] = equalize_adapthist(np.squeeze(values_e[i]))"
   ]
  },
  {
   "cell_type": "code",
   "execution_count": 83,
   "id": "5a114730",
   "metadata": {},
   "outputs": [],
   "source": [
    "one = cv2.imread('DATA/copd1_exhale.png')\n",
    "two = cv2.imread('DATA/copd1_exhale_ada.png')\n",
    "\n",
    "three = cv2.imread('DATA/copd1_inhale.png')\n",
    "four = cv2.imread('DATA/copd1_inhale_ada.png')"
   ]
  },
  {
   "cell_type": "code",
   "execution_count": 84,
   "id": "41ce0743",
   "metadata": {},
   "outputs": [
    {
     "data": {
      "text/plain": [
       "<matplotlib.image.AxesImage at 0x280c13b27f0>"
      ]
     },
     "execution_count": 84,
     "metadata": {},
     "output_type": "execute_result"
    },
    {
     "data": {
      "image/png": "[encoded data removed]",
      "text/plain": [
       "<Figure size 432x288 with 2 Axes>"
      ]
     },
     "metadata": {
      "needs_background": "light"
     },
     "output_type": "display_data"
    }
   ],
   "source": [
    "plt.subplot(2,1,1)\n",
    "plt.imshow(one, cmap = 'gray')\n",
    "plt.subplot(2,1,2)\n",
    "plt.imshow(three, cmap = 'gray')\n"
   ]
  },
  {
   "cell_type": "code",
   "execution_count": 81,
   "id": "c8f20a45",
   "metadata": {},
   "outputs": [
    {
     "data": {
      "text/plain": [
       "(512, 512, 119)"
      ]
     },
     "execution_count": 81,
     "metadata": {},
     "output_type": "execute_result"
    }
   ],
   "source": [
    "i = 2\n",
    "lal = np.array([0.633,   0.633,   2.5], dtype = np.float32)\n",
    "values[i].shape"
   ]
  },
  {
   "cell_type": "code",
   "execution_count": 82,
   "id": "0f8c151c",
   "metadata": {},
   "outputs": [
    {
     "data": {
      "text/plain": [
       "array([-1.  ,  0.63,  0.63,  2.5 ,  0.  ,  0.  ,  0.  ,  0.  ],\n",
       "      dtype=float32)"
      ]
     },
     "execution_count": 82,
     "metadata": {},
     "output_type": "execute_result"
    }
   ],
   "source": [
    "header_info[4]['pixdim']"
   ]
  },
  {
   "cell_type": "code",
   "execution_count": 83,
   "id": "8850ee51",
   "metadata": {},
   "outputs": [],
   "source": [
    "    ni_img_i = nib.Nifti1Image(values[i], affine=np.eye(4), header = header_info[4])\n",
    "    ni_img_i.header['pixdim'][1:4] = lal\n",
    "    nib.save(ni_img_i, f'Ada_NiftiChallenge/{name[i]}_iBHCT.nii.gz')\n",
    "    \n",
    "    ni_img_e = nib.Nifti1Image(values_e[i], affine=np.eye(4), header = header_info[4])\n",
    "    ni_img_e.header['pixdim'][1:4] = lal\n",
    "    nib.save(ni_img_e, f'Ada_NiftiChallenge/{name[i]}_eBHCT.nii.gz')"
   ]
  },
  {
   "cell_type": "code",
   "execution_count": 124,
   "id": "1ae60a2d",
   "metadata": {},
   "outputs": [],
   "source": [
    "ni_img.header['pixdim'][1:4] = header_info[0]['pixdim'][1:4]"
   ]
  },
  {
   "cell_type": "code",
   "execution_count": 125,
   "id": "ad81a5f8",
   "metadata": {},
   "outputs": [
    {
     "data": {
      "text/plain": [
       "array([1.  , 0.62, 0.62, 2.5 , 0.  , 0.  , 0.  , 0.  ], dtype=float32)"
      ]
     },
     "execution_count": 125,
     "metadata": {},
     "output_type": "execute_result"
    }
   ],
   "source": [
    "ni_img.header['pixdim']"
   ]
  },
  {
   "cell_type": "code",
   "execution_count": 46,
   "id": "377b27cb",
   "metadata": {},
   "outputs": [
    {
     "data": {
      "text/plain": [
       "array([0.97, 0.97, 2.5 ], dtype=float32)"
      ]
     },
     "execution_count": 46,
     "metadata": {},
     "output_type": "execute_result"
    }
   ],
   "source": [
    "header_info[i]['pixdim'][1:4]"
   ]
  },
  {
   "cell_type": "code",
   "execution_count": 48,
   "id": "56f40e72",
   "metadata": {},
   "outputs": [
    {
     "data": {
      "text/plain": [
       "array([0.2, 0.2, 0.2], dtype=float32)"
      ]
     },
     "execution_count": 48,
     "metadata": {},
     "output_type": "execute_result"
    }
   ],
   "source": [
    "np.array([0.2, 0.2, 0.2], dtype = np.float32)"
   ]
  },
  {
   "cell_type": "code",
   "execution_count": null,
   "id": "fdbf251f",
   "metadata": {},
   "outputs": [],
   "source": []
  }
 ],
 "metadata": {
  "kernelspec": {
   "display_name": "Python 3",
   "language": "python",
   "name": "python3"
  },
  "language_info": {
   "codemirror_mode": {
    "name": "ipython",
    "version": 3
   },
   "file_extension": ".py",
   "mimetype": "text/x-python",
   "name": "python",
   "nbconvert_exporter": "python",
   "pygments_lexer": "ipython3",
   "version": "3.8.8"
  }
 },
 "nbformat": 4,
 "nbformat_minor": 5
}
