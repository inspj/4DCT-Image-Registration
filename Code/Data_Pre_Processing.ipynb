{
 "cells": [
  {
   "cell_type": "code",
   "execution_count": 4,
   "id": "eb8457b5",
   "metadata": {},
   "outputs": [],
   "source": [
    "import nibabel as nib\n",
    "import numpy as np\n",
    "import os\n",
    "import sys\n",
    "from skimage.exposure import equalize_adapthist"
   ]
  },
  {
   "cell_type": "code",
   "execution_count": 2,
   "id": "2f1842d8",
   "metadata": {},
   "outputs": [],
   "source": [
    "def file_reader(filepath):\n",
    "    \n",
    "    image_nifti = nib.load(filepath)\n",
    "    img = image_nifti.get_data()\n",
    "\n",
    "  \n",
    "    return img\n",
    "\n",
    "def file_header(filepath):\n",
    "    image_nifti = nib.load(filepath)\n",
    "    header = image_nifti.header  \n",
    "    return header"
   ]
  },
  {
   "cell_type": "code",
   "execution_count": 5,
   "id": "6bf57e17",
   "metadata": {},
   "outputs": [
    {
     "name": "stdout",
     "output_type": "stream",
     "text": [
      "['copd0_eBHCT.nii.gz', 'copd0_iBHCT.nii.gz', 'copd5_eBHCT.nii.gz', 'copd5_iBHCT.nii.gz', 'copd6_eBHCT.nii.gz', 'copd6_iBHCT.nii.gz']\n"
     ]
    }
   ],
   "source": [
    "folders = ['Nifti_Challenge']\n",
    "path = './'\n",
    "files = []\n",
    "\n",
    "\n",
    "files.append([f for f in sorted(os.listdir(os.path.join(path,folders[0])))])\n",
    "#val_folders = [f for f in sorted(os.listdir(os.path.join(path,folders[1])))]\n",
    "files = files[0]\n",
    "print(files)\n"
   ]
  },
  {
   "cell_type": "code",
   "execution_count": 10,
   "id": "95640055",
   "metadata": {},
   "outputs": [
    {
     "name": "stderr",
     "output_type": "stream",
     "text": [
      "<ipython-input-2-e734f863b5ba>:4: DeprecationWarning: get_data() is deprecated in favor of get_fdata(), which has a more predictable return type. To obtain get_data() behavior going forward, use numpy.asanyarray(img.dataobj).\n",
      "\n",
      "* deprecated from version: 3.0\n",
      "* Will raise <class 'nibabel.deprecator.ExpiredDeprecationError'> as of version: 5.0\n",
      "  img = image_nifti.get_data()\n"
     ]
    }
   ],
   "source": [
    "name = [\"copd0\", \"copd5\", \"copd6\"]\n",
    "k = 0\n",
    "for i in [0, 5,  6]:\n",
    "    # Load the specific inhale and exhale nifti files\n",
    "    inhale = file_reader(os.path.join(path,folders[0],name[k]+\"_iBHCT.nii.gz\"))\n",
    "    exhale = file_reader(os.path.join(path,folders[0],name[k]+\"_eBHCT.nii.gz\"))\n",
    "    header_info = file_header(f'Nifti_Challenge/copd{i}_iBHCT.nii.gz')\n",
    "    \n",
    "    # Apply CLEHE to the volumes\n",
    "    inhale_ada = equalize_adapthist(np.squeeze(inhale))\n",
    "    exhale_ada = equalize_adapthist(np.squeeze(exhale))\n",
    "    \n",
    "    # Save the pre-processed volumes as nifti files while taking care of\n",
    "    # the correct pix dimensions extracted from the provided header\n",
    "    # information.\n",
    "    ni_img_i = nib.Nifti1Image(inhale_ada, affine=np.eye(4), header = header_info[4])\n",
    "    ni_img_i.header['pixdim'][1:4] = header_info['pixdim']\n",
    "    nib.save(ni_img_i, f'Ada_NiftiChallenge/{name[i]}_iBHCT.nii.gz')\n",
    "    \n",
    "    ni_img_e = nib.Nifti1Image(exhale_ada, affine=np.eye(4), header = header_info[4])\n",
    "    ni_img_e.header['pixdim'][1:4] = header_info['pixdim']\n",
    "    nib.save(ni_img_e, f'Ada_NiftiChallenge/{name[i]}_eBHCT.nii.gz')\n",
    "    \n",
    "    k += 1"
   ]
  },
  {
   "cell_type": "code",
   "execution_count": null,
   "id": "4a628d08",
   "metadata": {},
   "outputs": [],
   "source": []
  }
 ],
 "metadata": {
  "kernelspec": {
   "display_name": "Python 3",
   "language": "python",
   "name": "python3"
  },
  "language_info": {
   "codemirror_mode": {
    "name": "ipython",
    "version": 3
   },
   "file_extension": ".py",
   "mimetype": "text/x-python",
   "name": "python",
   "nbconvert_exporter": "python",
   "pygments_lexer": "ipython3",
   "version": "3.8.8"
  }
 },
 "nbformat": 4,
 "nbformat_minor": 5
}
